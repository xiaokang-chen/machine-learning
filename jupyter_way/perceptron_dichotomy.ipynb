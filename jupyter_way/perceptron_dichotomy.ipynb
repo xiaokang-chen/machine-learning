{
 "cells": [
  {
   "cell_type": "code",
   "execution_count": 1,
   "metadata": {},
   "outputs": [],
   "source": [
    "import numpy as np\n",
    "import time"
   ]
  },
  {
   "cell_type": "code",
   "execution_count": null,
   "metadata": {},
   "outputs": [],
   "source": [
    "def loadData(fileName):\n",
    "    '''\n",
    "    加载Minist数据集\n",
    "    @param fileName: 要加载的数据集路径\n",
    "    @return dataArr, labelArr: list形式的数据集和标记\n",
    "    '''\n",
    "    print('start to read data')\n",
    "    # 存放数据及标记的list\n",
    "    dataArr = []; labelArr = []\n",
    "    # 打开文件\n",
    "    fr = open(fileName, 'r')\n",
    "    # 将文件按行读取\n",
    "    for line in fr.readlines():\n",
    "        # 对每一行按照切割符‘,’进行切分，返回字段列表\n",
    "        # strip()去掉每行空白\n",
    "        curline = line.strip().split(',')"
   ]
  }
 ],
 "metadata": {
  "kernelspec": {
   "display_name": "Python 3",
   "language": "python",
   "name": "python3"
  },
  "language_info": {
   "codemirror_mode": {
    "name": "ipython",
    "version": 3
   },
   "file_extension": ".py",
   "mimetype": "text/x-python",
   "name": "python",
   "nbconvert_exporter": "python",
   "pygments_lexer": "ipython3",
   "version": "3.8.6"
  }
 },
 "nbformat": 4,
 "nbformat_minor": 4
}
